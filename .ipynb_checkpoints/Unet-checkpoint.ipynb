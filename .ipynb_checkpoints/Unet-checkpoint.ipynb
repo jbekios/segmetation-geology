{
 "cells": [
  {
   "cell_type": "markdown",
   "metadata": {},
   "source": [
    "<center><h1>Implementación Unet</h1></center>\n",
    "\n",
    "---\n",
    "\n",
    "Tutorial: [aquí](https://becominghuman.ai/implementing-unet-in-pytorch-8c7e05a121b4)\n",
    "\n",
    "Este tipo de red neuronal esta principalmente compuesta de dos partes, un bloque de contracción (_**parte izquierda**_) y otro bloque de expansión (_**parte derecha**_). Posee la siguiente forma: <br><br>\n",
    "\n",
    "<div align=\"center\">\n",
    "    <img src=\"./Ilustraciones/Unet.jpeg\"/>\n",
    "    <figcaption>Imagen UNET</figcaption>\n",
    "</div>\n",
    "\n",
    "<br><br>\n",
    "\n",
    "<p style='text-align: justify;'> \n",
    "La parte izquierda es solo una simple <i><b>red convolucional</b></i>. En cada eslabón de esta parte de la red existen dos capas de convolución (3x3), cada una seguida de una función de activación Relu, y luego se aplica una capa maxpool (2x2) (flecha      roja en la imagen). Notar que la primera barra vertical en el lado izquierdo de la imagen no es una capa, sino que representa la entrada (imagen de entrada).</p>\n",
    "\n",
    "<p style='text-align: justify;'>\n",
    " En la parte derecha de la red es donde suceden cosas interesantes. En esta sección también se usan dos capas de convolución de (3x3) apiladas juntas (secuencialmente) como el lado izquierdo, pero no se usa la función de activación de <i>ReLU</i> y no se usa una capa maxpool. En su lugar, se usa una capa de convolución transpuesta (2x2) (flecha verde en la imagen). Durante la ruta de expansión, tomaremos la  imagen (copia) del lado izquierdo y la combinaremos con la imagen de la derecha (flecha gris en la imagen). Recuerde que también se utilizan capas de convolución secuenciales de 3x3 en el lado derecho, por lo que la entrada para eso será la combinación de la imagen de la derecha y su capa anterior (la mitad del cuadro blanco y azul en el lado derecho de la imagen es la combinación). La capa de salida en el lado derecho se aplica una capa de convolución adicional (mapa de segmentación de salida).\n",
    "</p>\n"
   ]
  },
  {
   "cell_type": "markdown",
   "metadata": {},
   "source": [
    "## Importamos librerías"
   ]
  },
  {
   "cell_type": "code",
   "execution_count": 1,
   "metadata": {},
   "outputs": [],
   "source": [
    "import torch\n",
    "import torch.nn as nn"
   ]
  },
  {
   "cell_type": "markdown",
   "metadata": {},
   "source": [
    "## Bloque de contracción"
   ]
  },
  {
   "cell_type": "markdown",
   "metadata": {},
   "source": [
    "En primera instancia implementaremos una función llamada `dual_conv()` la cual se encargará de contener las capas convolucionales y de polling de izquierda de la red."
   ]
  },
  {
   "cell_type": "code",
   "execution_count": 2,
   "metadata": {},
   "outputs": [],
   "source": [
    "def dual_conv(in_channel, out_channel):\n",
    "    \n",
    "    conv = nn.Sequential(\n",
    "        nn.Conv2d(in_channels=in_channel, out_channels=out_channel, kernel_size=3),\n",
    "        nn.ReLU(inplace=True),\n",
    "        nn.Conv2d(in_channels=out_channel, out_channels=out_channel, kernel_size=3),\n",
    "        nn.ReLU(inplace=True))\n",
    "    \n",
    "    return conv"
   ]
  },
  {
   "cell_type": "markdown",
   "metadata": {},
   "source": [
    "En segundo lugar, implementamos una clase `Unet` la cual se encarga de contener la parte izquierda de la red. Llamaremos `dwn_conv_n` a las capas convolucionales de la primera parte de la red, debido a que en la imagen aparecen ilustradas como flechas que apuntan hacia abajo."
   ]
  },
  {
   "cell_type": "code",
   "execution_count": 3,
   "metadata": {},
   "outputs": [],
   "source": [
    "class Unet(nn.Module):\n",
    "    \n",
    "    def __init__(self):\n",
    "        super(Unet, self).__init__()\n",
    "        \n",
    "        self.dwn_conv_1 = dual_conv(1, 64)\n",
    "        self.dwn_conv_2 = dual_conv(64 ,128)\n",
    "        self.dwn_conv_3 = dual_conv(128 ,256)\n",
    "        self.dwn_conv_4 = dual_conv(256 ,512)\n",
    "        self.dwn_conv_5 = dual_conv(512 ,1024)\n",
    "        self.maxpool    = nn.MaxPool2d(kernel_size=2, stride=2)\n",
    "        \n",
    "    def forward(self, input_img):\n",
    "        \n",
    "        x1 = self.dwn_conv_1(input_img)\n",
    "        x2 = self.maxpool(x1)\n",
    "        \n",
    "        x3 = self.dwn_conv_2(x2)\n",
    "        x4 = self.maxpool(x3)\n",
    "        \n",
    "        x5 = self.dwn_conv_3(x4)                                \n",
    "        x6 = self.maxpool(x5)\n",
    "        \n",
    "        x7 = self.dwn_conv_4(x6)\n",
    "        x8 = self.maxpool(x7)\n",
    "        \n",
    "        x9 = self.dwn_conv_5(x8)        "
   ]
  },
  {
   "cell_type": "markdown",
   "metadata": {},
   "source": [
    "Con el código anterior la parte _**izquierda**_ de la red esta completa, ahora debemos codear la parde __*derecha*__."
   ]
  },
  {
   "cell_type": "markdown",
   "metadata": {},
   "source": [
    "## Bloque de expansión\n",
    "\n",
    "<p style='text-align: justify;'>Para comenzar a implementar esta sección, debemos añadir las convoluciones transpuestas y las capas convolucionales de \"subida\" a nuestra red. Por otra parte, como vimos en la imagen de la arquitectura, las entradas de cada bloque de la parte derecha de Unet corresponden a una combinación entre las salidas de los bloques del lado izquierdo (flechas grises) y la salida de la capa anterior. Para combinar estas entradas debemos hacer un <i>resize</i> para que tengan las mismas dimensiones, por lo que implementaremos una función crop_image() con el fin de re-dimensionar las imagenes.</p>"
   ]
  },
  {
   "cell_type": "code",
   "execution_count": 4,
   "metadata": {},
   "outputs": [],
   "source": [
    "def crop_tensor(target_tensor, tensor):\n",
    "    \n",
    "    target_size = target_tensor.size()[2]\n",
    "    tensor_size = tensor.size()[2]\n",
    "    delta = tensor_size - target_size\n",
    "    delta = delta // 2\n",
    "    \n",
    "    return tensor[:, :, delta:tensor_size - delta, delta:tensor_size - delta]"
   ]
  },
  {
   "cell_type": "code",
   "execution_count": 5,
   "metadata": {},
   "outputs": [],
   "source": [
    "class Unet(nn.Module):\n",
    "    \n",
    "    def __init__(self):\n",
    "        super(Unet, self).__init__()\n",
    "        \n",
    "        # Parte izquierda (bloque de contracción)\n",
    "        self.dwn_conv_1 = dual_conv(1, 64)\n",
    "        self.dwn_conv_2 = dual_conv(64 ,128)\n",
    "        self.dwn_conv_3 = dual_conv(128 ,256)\n",
    "        self.dwn_conv_4 = dual_conv(256 ,512)\n",
    "        self.dwn_conv_5 = dual_conv(512 ,1024)\n",
    "        self.maxpool    = nn.MaxPool2d(kernel_size=2, stride=2)\n",
    "        \n",
    "        # Parte derecha (bloque de expansión)\n",
    "        self.trans_1 = nn.ConvTranspose2d(1024,512, kernel_size=2, stride= 2)\n",
    "        self.up_conv_1 = dual_conv(1024,512)\n",
    "        self.trans_2 = nn.ConvTranspose2d(512,256, kernel_size=2, stride= 2)\n",
    "        self.up_conv_2 = dual_conv(512,256)\n",
    "        self.trans_3 = nn.ConvTranspose2d(256, 128, kernel_size=2, stride= 2)\n",
    "        self.up_conv_3 = dual_conv(256,128)\n",
    "        self.trans_4 = nn.ConvTranspose2d(128,64, kernel_size=2, stride= 2)\n",
    "        self.up_conv_4 = dual_conv(128,64)\n",
    "\n",
    "        #Capa de salida\n",
    "        self.out = nn.Conv2d(64, 2, kernel_size=1)\n",
    "        \n",
    "        \n",
    "    def forward(self, input_img):\n",
    "        \n",
    "        # Paso hacia adelante (lado izquierdo)\n",
    "        x1 = self.dwn_conv_1(input_img)\n",
    "        x2 = self.maxpool(x1)\n",
    "        \n",
    "        x3 = self.dwn_conv_2(x2)\n",
    "        x4 = self.maxpool(x3)                               \n",
    "        \n",
    "        x5 = self.dwn_conv_3(x4)                                \n",
    "        x6 = self.maxpool(x5)\n",
    "        \n",
    "        x7 = self.dwn_conv_4(x6)\n",
    "        x8 = self.maxpool(x7)\n",
    "        \n",
    "        x9 = self.dwn_conv_5(x8)\n",
    "        \n",
    "        # Paso hacia adelante (lado derecho)\n",
    "        x = self.trans_1(x9)\n",
    "        y = crop_tensor(x, x7)\n",
    "        x = self.up_conv_1(torch.cat([x,y], 1))\n",
    "        \n",
    "        x = self.trans_2(x)\n",
    "        y = crop_tensor(x, x5)\n",
    "        x = self.up_conv_2(torch.cat([x,y], 1))\n",
    "        \n",
    "        x = self.trans_3(x)\n",
    "        y = crop_tensor(x, x3)\n",
    "        x = self.up_conv_3(torch.cat([x,y], 1))\n",
    "        \n",
    "        x = self.trans_4(x)\n",
    "        y = crop_tensor(x, x1)\n",
    "        x = self.up_conv_4(torch.cat([x,y], 1))\n",
    "        \n",
    "        x = self.out(x)\n",
    "        \n",
    "        return x"
   ]
  },
  {
   "cell_type": "markdown",
   "metadata": {},
   "source": [
    "### Probamos el modelo"
   ]
  },
  {
   "cell_type": "code",
   "execution_count": 39,
   "metadata": {},
   "outputs": [],
   "source": [
    "import torchvision.transforms as tf\n",
    "import matplotlib.pyplot as plt"
   ]
  },
  {
   "cell_type": "code",
   "execution_count": 40,
   "metadata": {},
   "outputs": [
    {
     "data": {
      "text/plain": [
       "<torch._C.Generator at 0x7fd81c3ebcf0>"
      ]
     },
     "execution_count": 40,
     "metadata": {},
     "output_type": "execute_result"
    }
   ],
   "source": [
    "torch.manual_seed(17) # Semilla fija"
   ]
  },
  {
   "cell_type": "code",
   "execution_count": 41,
   "metadata": {},
   "outputs": [],
   "source": [
    "img = torch.rand((1, 1, 572, 572))\n",
    "model = Unet()"
   ]
  },
  {
   "cell_type": "markdown",
   "metadata": {},
   "source": [
    "Transformaciones"
   ]
  },
  {
   "cell_type": "code",
   "execution_count": 42,
   "metadata": {},
   "outputs": [],
   "source": [
    "transform_1 = tf.Compose([\n",
    "    tf.ToPILImage()\n",
    "])"
   ]
  },
  {
   "cell_type": "code",
   "execution_count": 49,
   "metadata": {},
   "outputs": [
    {
     "data": {
      "text/plain": [
       "tensor([[[[10.4069, 10.1751,  9.9227,  ..., 10.3516, 10.0408, 11.0575],\n",
       "          [10.9849, 10.0009, 10.7957,  ..., 10.5048, 11.2008, 10.6411],\n",
       "          [10.1083, 10.3620,  9.0932,  ...,  9.8431, 11.2205, 11.4161],\n",
       "          ...,\n",
       "          [10.6583, 11.3944, 11.5135,  ...,  9.9940, 11.2676, 10.0746],\n",
       "          [10.6842, 11.8634, 10.8824,  ..., 11.9543, 10.2457, 10.2677],\n",
       "          [11.9618, 11.5878, 11.6197,  ...,  9.7759, 11.1954, 10.0936]],\n",
       "\n",
       "         [[ 4.2891,  5.6255,  5.4031,  ...,  5.5661,  4.8545,  5.4203],\n",
       "          [ 4.5851,  5.4328,  5.5153,  ...,  5.2368,  4.5125,  4.4686],\n",
       "          [ 4.1980,  5.7457,  5.6489,  ...,  5.6873,  4.6730,  4.8092],\n",
       "          ...,\n",
       "          [ 5.4458,  5.3387,  4.0830,  ...,  4.9310,  4.9733,  5.1101],\n",
       "          [ 5.0306,  4.4291,  5.1857,  ...,  4.9802,  4.6121,  5.1998],\n",
       "          [ 5.1001,  4.7026,  4.4838,  ...,  5.2022,  4.9927,  5.6578]]]],\n",
       "       grad_fn=<MulBackward0>)"
      ]
     },
     "execution_count": 49,
     "metadata": {},
     "output_type": "execute_result"
    }
   ],
   "source": [
    "out= model(img); out*255"
   ]
  },
  {
   "cell_type": "code",
   "execution_count": 50,
   "metadata": {},
   "outputs": [],
   "source": [
    "out = out.reshape((2, 388, 388))"
   ]
  },
  {
   "cell_type": "code",
   "execution_count": 51,
   "metadata": {},
   "outputs": [
    {
     "data": {
      "text/plain": [
       "torch.Size([2, 388, 388])"
      ]
     },
     "execution_count": 51,
     "metadata": {},
     "output_type": "execute_result"
    }
   ],
   "source": [
    "out.size()"
   ]
  },
  {
   "cell_type": "code",
   "execution_count": 52,
   "metadata": {},
   "outputs": [],
   "source": [
    "out_PIL = transform_1(out)"
   ]
  },
  {
   "cell_type": "code",
   "execution_count": 53,
   "metadata": {},
   "outputs": [
    {
     "data": {
      "image/png": "[encoded data removed]",
      "text/plain": [
       "<Figure size 432x288 with 1 Axes>"
      ]
     },
     "metadata": {
      "needs_background": "light"
     },
     "output_type": "display_data"
    }
   ],
   "source": [
    "plt.imshow(out_PIL)\n",
    "plt.show()"
   ]
  },
  {
   "cell_type": "code",
   "execution_count": null,
   "metadata": {},
   "outputs": [],
   "source": []
  }
 ],
 "metadata": {
  "kernelspec": {
   "display_name": "Dscience",
   "language": "python",
   "name": "dscience"
  },
  "language_info": {
   "codemirror_mode": {
    "name": "ipython",
    "version": 3
   },
   "file_extension": ".py",
   "mimetype": "text/x-python",
   "name": "python",
   "nbconvert_exporter": "python",
   "pygments_lexer": "ipython3",
   "version": "3.6.5"
  }
 },
 "nbformat": 4,
 "nbformat_minor": 4
}
