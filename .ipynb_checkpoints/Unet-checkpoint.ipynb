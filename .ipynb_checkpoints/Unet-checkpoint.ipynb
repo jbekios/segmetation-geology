{
 "cells": [
  {
   "cell_type": "markdown",
   "metadata": {},
   "source": [
    "<div align='center'>\n",
    "    <h1>Implementación Unet</h1>\n",
    "</div>\n",
    "\n",
    "---\n",
    "\n",
    "Tutorial: [aquí](https://becominghuman.ai/implementing-unet-in-pytorch-8c7e05a121b4)\n",
    "\n",
    "Este tipo de red neuronal esta principalmente compuesta de dos partes, un bloque de contracción (_**parte izquierda**_) y otro bloque de expansión (_**parte derecha**_). Posee la siguiente forma: <br><br>\n",
    "\n",
    "<div align=\"center\">\n",
    "    <img src=\"./Ilustraciones/Unet.jpeg\"/>\n",
    "    <figcaption>Imagen UNET</figcaption>\n",
    "</div>\n",
    "\n",
    "<br><br>\n",
    "\n",
    "<p style='text-align: justify;'> \n",
    "La parte izquierda es solo una simple <i><b>red convolucional</b></i>. En cada eslabón de esta parte de la red existen dos capas de convolución (3x3), cada una seguida de una función de activación Relu, y luego se aplica una capa maxpool (2x2) (flecha      roja en la imagen). Notar que la primera barra vertical en el lado izquierdo de la imagen no es una capa, sino que representa la entrada (imagen de entrada).</p>\n",
    "\n",
    "<p style='text-align: justify;'>\n",
    " En la parte derecha de la red es donde suceden cosas interesantes. En esta sección también se usan dos capas de convolución de (3x3) apiladas juntas (secuencialmente) como el lado izquierdo, pero no se usa la función de activación de <i>ReLU</i> y no se usa una capa maxpool. En su lugar, se usa una capa de convolución transpuesta (2x2) (flecha verde en la imagen). Durante la ruta de expansión, tomaremos la  imagen (copia) del lado izquierdo y la combinaremos con la imagen de la derecha (flecha gris en la imagen). Recuerde que también se utilizan capas de convolución secuenciales de 3x3 en el lado derecho, por lo que la entrada para eso será la combinación de la imagen de la derecha y su capa anterior (la mitad del cuadro blanco y azul en el lado derecho de la imagen es la combinación). La capa de salida en el lado derecho se aplica una capa de convolución adicional (mapa de segmentación de salida).\n",
    "</p>\n"
   ]
  },
  {
   "cell_type": "markdown",
   "metadata": {},
   "source": [
    "## Importamos librerías"
   ]
  },
  {
   "cell_type": "code",
   "execution_count": 1,
   "metadata": {},
   "outputs": [],
   "source": [
    "import torch\n",
    "import torch.nn as nn"
   ]
  },
  {
   "cell_type": "markdown",
   "metadata": {},
   "source": [
    "## Bloque de contracción"
   ]
  },
  {
   "cell_type": "markdown",
   "metadata": {},
   "source": [
    "En primera instancia implementaremos una función llamada `dual_conv()` la cual se encargará de contener las capas convolucionales y de polling de izquierda de la red."
   ]
  },
  {
   "cell_type": "code",
   "execution_count": 2,
   "metadata": {},
   "outputs": [],
   "source": [
    "def dual_conv(in_channel, out_channel):\n",
    "    \n",
    "    conv = nn.Sequential(\n",
    "        nn.Conv2d(in_channels=in_channel, out_channels=out_channel, kernel_size=3),\n",
    "        nn.ReLU(inplace=True),\n",
    "        nn.Conv2d(in_channels=out_channel, out_channels=out_channel, kernel_size=3),\n",
    "        nn.ReLU(inplace=True))\n",
    "    \n",
    "    return conv"
   ]
  },
  {
   "cell_type": "markdown",
   "metadata": {},
   "source": [
    "En segundo lugar, implementamos una clase `Unet` la cual se encarga de contener la parte izquierda de la red. Llamaremos `dwn_conv_n` a las capas convolucionales de la primera parte de la red, debido a que en la imagen aparecen ilustradas como flechas que apuntan hacia abajo."
   ]
  },
  {
   "cell_type": "code",
   "execution_count": 3,
   "metadata": {},
   "outputs": [],
   "source": [
    "class Unet(nn.Module):\n",
    "    \n",
    "    def __init__(self):\n",
    "        super(Unet, self).__init__()\n",
    "        \n",
    "        self.dwn_conv_1 = dual_conv(1, 64)\n",
    "        self.dwn_conv_2 = dual_conv(64 ,128)\n",
    "        self.dwn_conv_3 = dual_conv(128 ,256)\n",
    "        self.dwn_conv_4 = dual_conv(256 ,512)\n",
    "        self.dwn_conv_5 = dual_conv(512 ,1024)\n",
    "        self.maxpool    = nn.MaxPool2d(kernel_size=2, stride=2)\n",
    "        \n",
    "    def forward(self, input_img):\n",
    "        \n",
    "        x1 = self.dwn_conv_1(input_img)\n",
    "        x2 = self.maxpool(x1)\n",
    "        \n",
    "        x3 = self.dwn_conv_2(x2)\n",
    "        x4 = self.maxpool(x3)\n",
    "        \n",
    "        x5 = self.dwn_conv_3(x4)                                \n",
    "        x6 = self.maxpool(x5)\n",
    "        \n",
    "        x7 = self.dwn_conv_4(x6)\n",
    "        x8 = self.maxpool(x7)\n",
    "        \n",
    "        x9 = self.dwn_conv_5(x8)        "
   ]
  },
  {
   "cell_type": "markdown",
   "metadata": {},
   "source": [
    "Con el código anterior la parte _**izquierda**_ de la red esta completa, ahora debemos codear la parde __*derecha*__."
   ]
  },
  {
   "cell_type": "markdown",
   "metadata": {},
   "source": [
    "## Bloque de expansión\n",
    "\n",
    "<p style='text-align: justify;'>Para comenzar a implementar esta sección, debemos añadir las convoluciones transpuestas y las capas convolucionales de \"subida\" a nuestra red. Por otra parte, como vimos en la imagen de la arquitectura, las entradas de cada bloque de la parte derecha de Unet corresponden a una combinación entre las salidas de los bloques del lado izquierdo (flechas grises) y la salida de la capa anterior. Para combinar estas entradas debemos hacer un <i>resize</i> para que tengan las mismas dimensiones, por lo que implementaremos una función crop_image() con el fin de re-dimensionar las imagenes.</p>"
   ]
  },
  {
   "cell_type": "code",
   "execution_count": 4,
   "metadata": {},
   "outputs": [],
   "source": [
    "def crop_tensor(target_tensor, tensor):\n",
    "    \n",
    "    target_size = target_tensor.size()[2]\n",
    "    tensor_size = tensor.size()[2]\n",
    "    delta = tensor_size - target_size\n",
    "    delta = delta // 2\n",
    "    \n",
    "    return tensor[:, :, delta:tensor_size - delta, delta:tensor_size - delta]"
   ]
  },
  {
   "cell_type": "code",
   "execution_count": 5,
   "metadata": {},
   "outputs": [],
   "source": [
    "class Unet(nn.Module):\n",
    "    \n",
    "    def __init__(self):\n",
    "        super(Unet, self).__init__()\n",
    "        \n",
    "        # Parte izquierda (bloque de contracción)\n",
    "        self.dwn_conv_1 = dual_conv(1, 64)\n",
    "        self.dwn_conv_2 = dual_conv(64 ,128)\n",
    "        self.dwn_conv_3 = dual_conv(128 ,256)\n",
    "        self.dwn_conv_4 = dual_conv(256 ,512)\n",
    "        self.dwn_conv_5 = dual_conv(512 ,1024)\n",
    "        self.maxpool    = nn.MaxPool2d(kernel_size=2, stride=2)\n",
    "        \n",
    "        # Parte derecha (bloque de expansión)\n",
    "        self.trans_1 = nn.ConvTranspose2d(1024,512, kernel_size=2, stride= 2)\n",
    "        self.up_conv_1 = dual_conv(1024,512)\n",
    "        self.trans_2 = nn.ConvTranspose2d(512,256, kernel_size=2, stride= 2)\n",
    "        self.up_conv_2 = dual_conv(512,256)\n",
    "        self.trans_3 = nn.ConvTranspose2d(256, 128, kernel_size=2, stride= 2)\n",
    "        self.up_conv_3 = dual_conv(256,128)\n",
    "        self.trans_4 = nn.ConvTranspose2d(128,64, kernel_size=2, stride= 2)\n",
    "        self.up_conv_4 = dual_conv(128,64)\n",
    "\n",
    "        #Capa de salida\n",
    "        self.out = nn.Conv2d(64, 2, kernel_size=1)\n",
    "        \n",
    "        \n",
    "    def forward(self, input_img):\n",
    "        \n",
    "        # Paso hacia adelante (lado izquierdo)\n",
    "        x1 = self.dwn_conv_1(input_img)\n",
    "        x2 = self.maxpool(x1)\n",
    "        \n",
    "        x3 = self.dwn_conv_2(x2)\n",
    "        x4 = self.maxpool(x3)                               \n",
    "        \n",
    "        x5 = self.dwn_conv_3(x4)                                \n",
    "        x6 = self.maxpool(x5)\n",
    "        \n",
    "        x7 = self.dwn_conv_4(x6)\n",
    "        x8 = self.maxpool(x7)\n",
    "        \n",
    "        x9 = self.dwn_conv_5(x8)\n",
    "        \n",
    "        # Paso hacia adelante (lado derecho)\n",
    "        x = self.trans_1(x9)\n",
    "        y = crop_tensor(x, x7)\n",
    "        x = self.up_conv_1(torch.cat([x,y], 1))\n",
    "        \n",
    "        x = self.trans_2(x)\n",
    "        y = crop_tensor(x, x5)\n",
    "        x = self.up_conv_2(torch.cat([x,y], 1))\n",
    "        \n",
    "        x = self.trans_3(x)\n",
    "        y = crop_tensor(x, x3)\n",
    "        x = self.up_conv_3(torch.cat([x,y], 1))\n",
    "        \n",
    "        x = self.trans_4(x)\n",
    "        y = crop_tensor(x, x1)\n",
    "        x = self.up_conv_4(torch.cat([x,y], 1))\n",
    "        \n",
    "        x = self.out(x)\n",
    "        \n",
    "        return x"
   ]
  },
  {
   "cell_type": "markdown",
   "metadata": {},
   "source": [
    "### Probamos el modelo"
   ]
  },
  {
   "cell_type": "code",
   "execution_count": 6,
   "metadata": {},
   "outputs": [],
   "source": [
    "import os\n",
    "import numpy as np\n",
    "import torchvision.transforms as tf\n",
    "import matplotlib.pyplot as plt\n",
    "from PIL import Image"
   ]
  },
  {
   "cell_type": "markdown",
   "metadata": {},
   "source": [
    "Transformaciones `PyTorch`:"
   ]
  },
  {
   "cell_type": "code",
   "execution_count": 7,
   "metadata": {},
   "outputs": [],
   "source": [
    "transform_1 = tf.Compose([\n",
    "    tf.Resize((492,492)),\n",
    "    tf.ToTensor()\n",
    "])\n",
    "\n",
    "transform_2 = tf.Compose([\n",
    "    tf.ToPILImage()\n",
    "])"
   ]
  },
  {
   "cell_type": "markdown",
   "metadata": {},
   "source": [
    "Directorio imágenes:"
   ]
  },
  {
   "cell_type": "code",
   "execution_count": 8,
   "metadata": {},
   "outputs": [],
   "source": [
    "origin_path = './Imagenes_recortadas_original/'\n",
    "mask_path   = './Imagenes_recortadas_mascara/'"
   ]
  },
  {
   "cell_type": "markdown",
   "metadata": {},
   "source": [
    "Importamos los datos"
   ]
  },
  {
   "cell_type": "code",
   "execution_count": 9,
   "metadata": {},
   "outputs": [],
   "source": [
    "def readImages(directory):    \n",
    "    files = os.listdir(directory)\n",
    "    images = []\n",
    "    for file in files:\n",
    "        img = Image.open(directory+file)\n",
    "        img = transform_1(img)\n",
    "        images.append(img)\n",
    "    return images"
   ]
  },
  {
   "cell_type": "markdown",
   "metadata": {},
   "source": [
    "#### División de los datos"
   ]
  },
  {
   "cell_type": "code",
   "execution_count": 24,
   "metadata": {},
   "outputs": [],
   "source": [
    "X_data = readImages(origin_path)\n",
    "y_data = readImages(mask_path)\n",
    "\n",
    "n_images = len(X_data)\n",
    "n_masks  = len(y_data)\n",
    "\n",
    "train_limit = int(n_images*0.7)\n",
    "test_limit  = train_limit + ((n_images - train_limit)//2)\n",
    "valid_limit = train_limit + (n_images - train_limit)\n",
    "\n",
    "# print('train_limit: {}'.format(train_limit))\n",
    "# print('test_limit: {}'.format(test_limit))\n",
    "# print('valid_limit: {}'.format(valid_limit))\n",
    "\n",
    "X_train = X_data[:train_limit]\n",
    "y_train = y_data[:train_limit]\n",
    "\n",
    "X_test = X_data[train_limit:test_limit]\n",
    "y_test = y_data[train_limit:test_limit]\n",
    "\n",
    "X_valid = X_data[test_limit:valid_limit]\n",
    "y_valid = y_data[test_limit:valid_limit]\n",
    "\n",
    "train_data = list(zip(X_train, y_train))\n",
    "test_data  = list(zip(X_test , y_test))\n",
    "valid_data = list(zip(X_valid, y_valid))"
   ]
  },
  {
   "cell_type": "markdown",
   "metadata": {},
   "source": [
    "Definimos una función para graficar una imagen y su máscara respectiva:"
   ]
  },
  {
   "cell_type": "code",
   "execution_count": 25,
   "metadata": {},
   "outputs": [],
   "source": [
    "def imgAndMask(index):\n",
    "    test_img  = transform_2(X_data[index])\n",
    "    test_mask = transform_2(y_data[index])\n",
    "    \n",
    "    plt.figure(figsize=(12, 8))\n",
    "    plt.subplot(1, 2, 1)\n",
    "    plt.title(f'Imagen {index+1}')\n",
    "    plt.xlabel(f'Dimension de la imagen: {test_img.size}')\n",
    "    plt.xticks(()); plt.yticks(())\n",
    "    plt.imshow(test_img, cmap='gray')\n",
    "    \n",
    "    plt.subplot(1, 2, 2)\n",
    "    plt.title(f'Máscara {index+1}')\n",
    "    plt.xlabel(f'Dimension de la imagen: {test_mask.size}')\n",
    "    plt.xticks(()); plt.yticks(())\n",
    "    plt.imshow(test_mask, cmap='gray')\n",
    "\n",
    "    plt.subplots_adjust(top=0.45, bottom=0.1, left=0.1, right=0.75, wspace=0.3, hspace=0.6)\n",
    "    plt.show()"
   ]
  },
  {
   "cell_type": "code",
   "execution_count": 26,
   "metadata": {},
   "outputs": [
    {
     "data": {
      "image/png": "[encoded data removed]",
      "text/plain": [
       "<Figure size 864x576 with 2 Axes>"
      ]
     },
     "metadata": {},
     "output_type": "display_data"
    }
   ],
   "source": [
    "imgAndMask(index=120)\n",
    "x_test = X_data[120]\n",
    "x_test_PIL = transform_2(x_test)"
   ]
  },
  {
   "cell_type": "markdown",
   "metadata": {},
   "source": [
    "# Modelo neuronal\n",
    "\n",
    "\n",
    "## Variables para el modelo neuronal\n",
    "---\n",
    "\n",
    "1. Definir hiperparámetros\n",
    "2. Configurar dispositivo GPU\n",
    "3. Arquitectura Neuronal: importar `torch.nn`\n",
    "4. Optimizador: importar paquete `torch.optim`\n",
    "5. Función de perdida: importar paquete `torch.nn`\n",
    "6. Batch Size: utilizar `torch.utils.data.DataLoader()`\n",
    "7. Entrenar la red\n",
    "8. Evaluar la red\n",
    "---"
   ]
  },
  {
   "cell_type": "markdown",
   "metadata": {},
   "source": [
    "### 1. Hiperparámetros\n",
    "\n",
    "1. Tasa de aprendizaje ($\\alpha$): variable `learning_rate`\n",
    "2. Número de épocas: variable `n_epochs`\n",
    "3. Tamaño de batch: variable `batch_size`\n",
    "4. Número de clases: variable `n_classes`"
   ]
  },
  {
   "cell_type": "code",
   "execution_count": 27,
   "metadata": {},
   "outputs": [],
   "source": [
    "learning_rate = 0.001\n",
    "n_epochs = 30\n",
    "batch_size = 128\n",
    "n_classes = 10"
   ]
  },
  {
   "cell_type": "markdown",
   "metadata": {},
   "source": [
    "### 2. Dispositivo GPU"
   ]
  },
  {
   "cell_type": "markdown",
   "metadata": {},
   "source": [
    "Para activar la opción GPU debemos configurar nuestro entorno de ejecución"
   ]
  },
  {
   "cell_type": "code",
   "execution_count": 28,
   "metadata": {},
   "outputs": [
    {
     "data": {
      "text/plain": [
       "device(type='cpu')"
      ]
     },
     "execution_count": 28,
     "metadata": {},
     "output_type": "execute_result"
    }
   ],
   "source": [
    "device = torch.device('cuda:0' if torch.cuda.is_available() else 'cpu')\n",
    "device"
   ]
  },
  {
   "cell_type": "markdown",
   "metadata": {},
   "source": [
    "### 3. Modelo neuronal"
   ]
  },
  {
   "cell_type": "markdown",
   "metadata": {},
   "source": [
    "Creamos una instancia de nuestra clase `Unet` declarada mas arriba"
   ]
  },
  {
   "cell_type": "code",
   "execution_count": 29,
   "metadata": {},
   "outputs": [],
   "source": [
    "model = Unet()"
   ]
  },
  {
   "cell_type": "markdown",
   "metadata": {},
   "source": [
    "### 4. Optimizador"
   ]
  },
  {
   "cell_type": "code",
   "execution_count": 30,
   "metadata": {},
   "outputs": [],
   "source": [
    "import torch.optim as optim"
   ]
  },
  {
   "cell_type": "code",
   "execution_count": 31,
   "metadata": {},
   "outputs": [],
   "source": [
    "optimizer = optim.Adam(model.parameters(), lr=learning_rate)"
   ]
  },
  {
   "cell_type": "markdown",
   "metadata": {},
   "source": [
    "###  5. Función de pérdida\n",
    "\n",
    "Como estamos resolviendo un problema de clasificación multiclase, la función de perdida debe ser la funcion softmax. Debemos utilizar la función `CrossEntropyLoss()` del modulo `nn` de PyTorch."
   ]
  },
  {
   "cell_type": "code",
   "execution_count": 32,
   "metadata": {},
   "outputs": [],
   "source": [
    "criteria = nn.CrossEntropyLoss()"
   ]
  },
  {
   "cell_type": "markdown",
   "metadata": {},
   "source": [
    "### 6. Batch Size"
   ]
  },
  {
   "cell_type": "code",
   "execution_count": 35,
   "metadata": {},
   "outputs": [],
   "source": [
    "train_data_loader      = torch.utils.data.DataLoader(train_data,      \n",
    "                                                     batch_size=batch_size, \n",
    "                                                     shuffle=True)\n",
    "\n",
    "test_data_loader       = torch.utils.data.DataLoader(test_data,       \n",
    "                                                     batch_size=batch_size, \n",
    "                                                     shuffle=False)\n",
    "\n",
    "validation_data_loader = torch.utils.data.DataLoader(valid_data,\n",
    "                                                     batch_size=batch_size, \n",
    "                                                     shuffle=True)"
   ]
  },
  {
   "cell_type": "markdown",
   "metadata": {},
   "source": [
    "### 7. Entrenamiento red neuronal"
   ]
  },
  {
   "cell_type": "code",
   "execution_count": null,
   "metadata": {},
   "outputs": [],
   "source": [
    "loss_per_epoch = []\n",
    "valid_per_epoch = []\n",
    "train_acc_per_epoch = []\n",
    "\n",
    "for epoch in range(1, n_epochs+1):\n",
    "\n",
    "  train_loss = 0.0\n",
    "  valid_loss = 0.0\n",
    "  valid_accuracy = 0.0\n",
    "  train_total = 0\n",
    "  train_correct = 0\n",
    "\n",
    "  model.train() # Entrenamos nuestro modelo\n",
    "  for images, masks in (train_data_loader):\n",
    "\n",
    "    # Enviamos los tensores a nuestra GPU asignada\n",
    "  \n",
    "    #images, masks = images.cuda(), masks.cuda()\n",
    "    images, masks = images.to(device), masks.to(device)\n",
    "\n",
    "    # clear-the-gradients-of-all-optimized-variables\n",
    "    optimizer.zero_grad()\n",
    "    # forward-pass: compute-predicted-outputs-by-passing-inputs-to-the-model\n",
    "    output = model(images)\n",
    "    # calculate-the-batch-loss\n",
    "    loss = criteria(output, masks)\n",
    "    # backward-pass: compute-gradient-of-the-loss-wrt-model-parameters\n",
    "    loss.backward()\n",
    "    # perform-a-ingle-optimization-step (parameter-update)\n",
    "    optimizer.step()\n",
    "\n",
    "    _, predicted = torch.max(output.data, 1)\n",
    "    train_total += masks.size(0)\n",
    "    train_correct += (predicted == masks).sum().item()\n",
    "\n",
    "    # Acierto actual\n",
    "    train_current_acc = 100 * train_correct / train_total\n",
    "    # update-training-loss\n",
    "    train_loss += loss.item() * images.size(0)\n",
    "    \n",
    "  train_acc_per_epoch.append(train_current_acc)\n",
    "\n",
    "  model.eval() # Evaluamos nuestro modelo\n",
    "  for images, masks in (validation_data_loader):\n",
    "\n",
    "    # Enviamos los tensores a nuestra GPU asignada\n",
    "\n",
    "    #images, masks = images.cuda(), masks.cuda()\n",
    "    images, masks = images.to(device), masks.to(device)\n",
    "\n",
    "    # forward-pass: compute-predicted-outputs-by-passing-inputs-to-the-model\n",
    "    output = model(images)\n",
    "\n",
    "    # calculate-the-batch-loss\n",
    "    loss = criteria(output, masks)\n",
    "\n",
    "    # update-training-loss\n",
    "    valid_loss += loss.item() * images.size(0)\n",
    " \n",
    "  # calculate-average-losses\n",
    "  train_loss = train_loss/len(train_data_loader.sampler)\n",
    "  valid_loss = valid_loss/len(validation_data_loader.sampler)\n",
    "\n",
    "  # añadimos los valores a un arreglo\n",
    "  # print(f'Addition number: {epoch}')\n",
    "  loss_per_epoch.append(train_loss)\n",
    "  valid_per_epoch.append(valid_loss)\n",
    "        \n",
    "  # print-training/validation-statistics \n",
    "  if(epoch % 2 == 0):\n",
    "    print('\\n------------------------------------------------------------------')\n",
    "    print('Epoch: {} \\tTraining Loss: {:.4f} \\tValidation Loss: {:.4f}'.format(\n",
    "          epoch, train_loss, valid_loss))\n",
    "    print('------------------------------------------------------------------')"
   ]
  }
 ],
 "metadata": {
  "kernelspec": {
   "display_name": "Dscience",
   "language": "python",
   "name": "dscience"
  },
  "language_info": {
   "codemirror_mode": {
    "name": "ipython",
    "version": 3
   },
   "file_extension": ".py",
   "mimetype": "text/x-python",
   "name": "python",
   "nbconvert_exporter": "python",
   "pygments_lexer": "ipython3",
   "version": "3.6.5"
  }
 },
 "nbformat": 4,
 "nbformat_minor": 4
}
